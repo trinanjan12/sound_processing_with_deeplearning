{
 "cells": [
  {
   "cell_type": "markdown",
   "metadata": {},
   "source": [
    "# My notes for reference . check out the original work by https://github.com/musikalkemist/AudioSignalProcessingForML"
   ]
  },
  {
   "cell_type": "markdown",
   "metadata": {
    "ExecuteTime": {
     "end_time": "2021-01-17T11:11:21.909150Z",
     "start_time": "2021-01-17T11:11:21.848675Z"
    }
   },
   "source": [
    "# Table of contents\n",
    "    1. The Basics of Sound \n",
    "        - what is sound and it's wave property\n",
    "        - freq,amplitude,phase of a sine wave\n",
    "        - pitch vs freq relation\n",
    "    2. Intensity, Loudness, Timbre\n",
    "        - power and intensity measurement\n",
    "        - loudness measurement\n",
    "        - what is timbre and it's properties"
   ]
  },
  {
   "cell_type": "markdown",
   "metadata": {},
   "source": [
    "## 1.The Basics of Sound :\n",
    "\n",
    "Sound is produced by the vibration of an object which in turns vibrates the air molecules to oscillate. The change of pressure in the air molecule creates an wave that is interpreted by our ear.\n",
    "\n",
    "The basic waveform of sound looks like this where we have amplitude in the y axis and time in the x axis.\n",
    "\n",
    "![sound_waveform_l1](./images/sound_waveform_l1.png)\n",
    "\n",
    "\n",
    "### Sine wave different terminology:\n",
    "\n",
    "**amplitude** : The Amplitude is the height from the centre line to the peak (or to the trough). Or we can measure the height from highest to lowest points and divide that by 2.\n",
    "\n",
    "**phase** : The Phase Shift is how far the function is shifted horizontally from the usual position.\n",
    "\n",
    "**frequency/period** : when we say a sine wave has a freq of 22khz that means it has 22k samples(peak to peak is one sample) in one second. \n",
    "period = 1/freq which means how long does one sample takes in second \n",
    "\n",
    "good source for sine wave terminology: https://www.mathsisfun.com/algebra/amplitude-period-frequency-phase-shift.html\n",
    "\n",
    "![sine_wave](./images/sine_wave.gif)\n",
    "\n",
    "![hearing_range](./images/hearing_range.png)\n",
    "\n",
    "\n",
    "**generally higher the amplitude results in louder sound and higher frequency results in higher sound(higher pitch)**.\n",
    "\n",
    "good source for pitch/amplitude:  https://www.phys.uconn.edu/~gibson/Notes/Section2_1/Sec2_1.htm\n",
    "\n",
    "**Pitch vs Freq** : The perception of pitch is logarithmic in nature. For example let's say we are playing C1 note of piano which has a pitch A0, now if we double the freq we will land in C2 and the resultant pitch will be A1, thus as we go one octave above the pitch doubles. So it follows the following log scale \n",
    "\n",
    "![pitch_freq](./images/pitch_freq.png)\n",
    "\n",
    "\n",
    "**TODO**\n",
    "provide explanation for the below parts\n",
    "\n",
    "each octave again could be divided into Cents.\n",
    "http://hyperphysics.phy-astr.gsu.edu/hbase/Music/cents.html#:~:text=Musical%20intervals%20are%20often%20expressed,then%20the%20interval%20is%20cents.\n",
    "\n",
    "Why sound could be represented by sin wave, why not any other wave ??"
   ]
  },
  {
   "cell_type": "markdown",
   "metadata": {
    "ExecuteTime": {
     "end_time": "2021-01-17T15:45:13.777519Z",
     "start_time": "2021-01-17T15:45:13.772819Z"
    }
   },
   "source": [
    "# 2. Intensity, Loudness, Timbre"
   ]
  },
  {
   "cell_type": "markdown",
   "metadata": {},
   "source": [
    "**Sound power and intensity**  \n",
    "sound power is basically the rate at which energy is transferred, Energy per unit of time emitted by a sound source in all directions. It is measured in **watt(W)**\n",
    "\n",
    "sound power per unit area becomes **sound intensity** and measured in W/m2\n",
    "\n",
    "Threshold of hearing or TOH for human is 10*-2 W/m2\n",
    "Threshold of pain or TOP for human is 10 W/m2\n",
    "\n",
    "intensity level of a sound is basically measured with reference to TOH and it is represented in db(decibels) in log scale\n",
    "\n",
    "for example if we have a sound with intensity I we can measure the db of the sound using the formula below\n",
    "\n",
    "![intensity_formula](./images/intensity_formula.png)\n",
    "\n",
    "**Every 3 dBs, intensity doubles**\n",
    "\n",
    "**Loudness of sound**:<br>\n",
    "how loud is some sound, basically a perception of the pitch that we are hearing. Depending on age this could change. It is dependent on the duration of the sound and the freq of the sound. \n",
    "\n",
    "For example 2 sound may have same intensity but depending on how long they sustain, the loudness will vary.\n",
    "\n",
    "**Loudness is measured in phons**\n",
    "\n",
    "below is graph of freq vs sound intensity(db). We can see from the graph that different lines have different phons. If we consider the 80phon line we can see that for very low freq we need high intensity to generate 80 phons\n",
    "\n",
    "![loudness_conture](./images/loudness_conture.png)\n",
    "\n",
    "**Timbre of sound**:<br>\n",
    "Timbre doesn't have a solid definition. We could say that timbre is color of sound. Let's say we are playing same note in 2 different instrument with same intensity,freq and duration we could still hear them differently.sometime it is described as bright, dark, dull, harsh, warm\n",
    "\n",
    "Timbre is multidimensional. To understand timbre we need to understand the following things\n",
    "\n",
    "**Sound envelope**:<br>\n",
    "In sound and music, an envelope describes how a sound changes over time. we have the Attack-Decay-Sustain-Release Model. Let's say we hit the C4, which will have a initial strike/attack phase then decay, then sustain and then release. \n",
    "![envelop_model](./images/envelop_model.png)\n",
    "\n",
    "If you compare 2 different instrument like piano and violin, we could see that violin has longer attack and smooth attack time/not as sharp as piano.\n",
    "\n",
    "![envelop_model_example](./images/envelop_model_example.png)\n",
    "\n",
    "\n",
    "**Complex sound**:<br>\n",
    "we could think of complex sound as superpositions of different sinusoids. each unique sinusoid is a **partial**. the minimum/lowest partial is **fundamental freq** and a **harmonic partial** is a frequency that is a multiple of the fundamental\n",
    "frequency\n",
    "for example if we have fundamental freq as 440hz the harmonic partials are 2* 440, 3* 440, 3* 440\n",
    "\n",
    "**Frequency modulation/amplitude modulation**:<br>\n",
    "modulating the freq is vibrato. amplitude modulation is tremolo. Both are used for expressive purposes.\n",
    "\n",
    "![envelop_model_example](https://upload.wikimedia.org/wikipedia/commons/a/a4/Amfm3-en-de.gif)\n",
    "\n",
    "All these things above Sound envelope/Complex sound/Frequency modulation/amplitude modulation describes the timbre of the music"
   ]
  },
  {
   "cell_type": "code",
   "execution_count": null,
   "metadata": {},
   "outputs": [],
   "source": []
  }
 ],
 "metadata": {
  "kernelspec": {
   "display_name": "audio",
   "language": "python",
   "name": "audio"
  },
  "language_info": {
   "codemirror_mode": {
    "name": "ipython",
    "version": 3
   },
   "file_extension": ".py",
   "mimetype": "text/x-python",
   "name": "python",
   "nbconvert_exporter": "python",
   "pygments_lexer": "ipython3",
   "version": "3.8.5"
  },
  "varInspector": {
   "cols": {
    "lenName": 16,
    "lenType": 16,
    "lenVar": 40
   },
   "kernels_config": {
    "python": {
     "delete_cmd_postfix": "",
     "delete_cmd_prefix": "del ",
     "library": "var_list.py",
     "varRefreshCmd": "print(var_dic_list())"
    },
    "r": {
     "delete_cmd_postfix": ") ",
     "delete_cmd_prefix": "rm(",
     "library": "var_list.r",
     "varRefreshCmd": "cat(var_dic_list()) "
    }
   },
   "types_to_exclude": [
    "module",
    "function",
    "builtin_function_or_method",
    "instance",
    "_Feature"
   ],
   "window_display": false
  }
 },
 "nbformat": 4,
 "nbformat_minor": 4
}
