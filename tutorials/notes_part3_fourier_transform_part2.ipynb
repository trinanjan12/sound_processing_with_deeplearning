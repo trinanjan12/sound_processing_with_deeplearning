{
 "cells": [
  {
   "cell_type": "markdown",
   "metadata": {},
   "source": [
    "# Table of contents\n",
    "    1. Introduction to complex number:\n",
    "        - complex number and it's representation in polar form\n",
    "        - euler identity and \n",
    "        - use example to show one example of FT\n",
    "    2. Fourier transform theory\n",
    "        - continuous time FT\n",
    "        - discrete time FT\n",
    "    3. How to extract FT using vanilla python\n",
    "    4. Short time Fourier Transform "
   ]
  },
  {
   "cell_type": "markdown",
   "metadata": {
    "ExecuteTime": {
     "end_time": "2021-01-18T10:43:20.419725Z",
     "start_time": "2021-01-18T10:43:20.415399Z"
    }
   },
   "source": [
    "### TODO\n",
    "1. better unerstanding of complex numbers the resources below\n",
    "2. better understanding of euler identity "
   ]
  },
  {
   "cell_type": "markdown",
   "metadata": {},
   "source": [
    "# 1. complex number understanding and polar representation"
   ]
  },
  {
   "cell_type": "markdown",
   "metadata": {},
   "source": [
    "resources to understand polar representation of complex number: \n",
    "             \n",
    "- [original work](https://github.com/musikalkemist/AudioSignalProcessingForML/tree/master/11%20-%20Complex%20numbers%20for%20audio%20signal%20processing)\n",
    "- https://www.youtube.com/watch?v=8RasCV_Lggg\n",
    "- [3Blue1Brown](https://www.youtube.com/watch?v=5PcpBw5Hbwo)"
   ]
  },
  {
   "cell_type": "code",
   "execution_count": null,
   "metadata": {},
   "outputs": [],
   "source": []
  }
 ],
 "metadata": {
  "kernelspec": {
   "display_name": "audio",
   "language": "python",
   "name": "audio"
  },
  "language_info": {
   "codemirror_mode": {
    "name": "ipython",
    "version": 3
   },
   "file_extension": ".py",
   "mimetype": "text/x-python",
   "name": "python",
   "nbconvert_exporter": "python",
   "pygments_lexer": "ipython3",
   "version": "3.8.5"
  },
  "varInspector": {
   "cols": {
    "lenName": 16,
    "lenType": 16,
    "lenVar": 40
   },
   "kernels_config": {
    "python": {
     "delete_cmd_postfix": "",
     "delete_cmd_prefix": "del ",
     "library": "var_list.py",
     "varRefreshCmd": "print(var_dic_list())"
    },
    "r": {
     "delete_cmd_postfix": ") ",
     "delete_cmd_prefix": "rm(",
     "library": "var_list.r",
     "varRefreshCmd": "cat(var_dic_list()) "
    }
   },
   "types_to_exclude": [
    "module",
    "function",
    "builtin_function_or_method",
    "instance",
    "_Feature"
   ],
   "window_display": false
  }
 },
 "nbformat": 4,
 "nbformat_minor": 4
}
